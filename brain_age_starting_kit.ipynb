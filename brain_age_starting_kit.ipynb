{
 "cells": [
  {
   "cell_type": "markdown",
   "metadata": {},
   "source": [
    "# brain_age\n",
    "\n",
    "Predict age from brain grey matter (regression).\n",
    "\n",
    "## Preprocessed input data\n",
    "\n",
    "Voxel Based Morphometry (VBM) from [cat12](http://www.neuro.uni-jena.de/cat/):\n",
    "\n",
    "- ROIs of Gray Matter (GM) scaled for the Total Intracranial Volume (TIV)\n",
    "  * `[test|train]_rois.csv` 284 features\n",
    "\n",
    "- VBM map in the MNI space (3 D map)\n",
    "  * `[test|train]_train_vbm.npz` 3D images of shapes (121, 145, 121).\n",
    "  This npz contains the 3D mask and the affine transformation to MNI\n",
    "  referential. Masking the brain provide 331 695 input features (voxels).\n",
    "\n",
    "`problem.get_train_data()` return the concatenation of 284 ROIs features with 331 695 features.\n",
    "Those two blocks are redundant. To select only on ROIs features do:\n",
    "\n",
    "```\n",
    "x_arr[:, :284]\n",
    "```\n",
    "\n",
    "To select only on VBM (voxel with the brain) features do:\n",
    "\n",
    "```\n",
    "x_arr[:, 284:]\n",
    "```\n",
    "\n",
    "There are 357 samples in the training set and 90 samples in the test set.\n",
    "\n",
    "\n",
    "## Links\n",
    "\n",
    "\n",
    "- [RAMP-workflow’s documentation](https://paris-saclay-cds.github.io/ramp-workflow/)\n",
    "- [RAMP Kits](https://github.com/ramp-kits)"
   ]
  },
  {
   "cell_type": "code",
   "execution_count": 56,
   "metadata": {},
   "outputs": [],
   "source": [
    "%matplotlib inline\n",
    "import numpy as np\n",
    "import matplotlib.pyplot as plt\n",
    "import pandas as pd\n",
    "import seaborn as sns"
   ]
  },
  {
   "cell_type": "code",
   "execution_count": 57,
   "metadata": {},
   "outputs": [],
   "source": [
    "import problem"
   ]
  },
  {
   "cell_type": "code",
   "execution_count": 58,
   "metadata": {},
   "outputs": [],
   "source": [
    "X_train, y_train = problem.get_train_data()"
   ]
  },
  {
   "cell_type": "markdown",
   "metadata": {},
   "source": [
    "## Feature Selection\n",
    "\n",
    "Select only the 284 ROIs features:"
   ]
  },
  {
   "cell_type": "code",
   "execution_count": 59,
   "metadata": {},
   "outputs": [],
   "source": [
    "X_train = X_train[:, :284]"
   ]
  },
  {
   "cell_type": "markdown",
   "metadata": {},
   "source": [
    "## Predictor\n",
    "\n",
    "We propose a simple Regression predictor based on ROIs features only:"
   ]
  },
  {
   "cell_type": "code",
   "execution_count": 60,
   "metadata": {},
   "outputs": [],
   "source": [
    "# Models\n",
    "from sklearn.linear_model import LinearRegression\n",
    "from sklearn.base import BaseEstimator\n",
    "from sklearn.preprocessing import StandardScaler\n",
    "from sklearn.pipeline import make_pipeline\n",
    "\n",
    "pipe = make_pipeline(ROIsFeatureExtractor(), StandardScaler(), LinearRegression())"
   ]
  },
  {
   "cell_type": "markdown",
   "metadata": {},
   "source": [
    "## Evaluation using CV\n",
    "\n",
    "The framework is evaluated with a cross-validation approach. The metrics used are the root-mean-square error (RMSE)."
   ]
  },
  {
   "cell_type": "code",
   "execution_count": 61,
   "metadata": {},
   "outputs": [
    {
     "name": "stdout",
     "output_type": "stream",
     "text": [
      "Training RMSE: 0.639 +- 0.288\n",
      "Test RMSE: 47.793 +- 16.807\n"
     ]
    },
    {
     "name": "stderr",
     "output_type": "stream",
     "text": [
      "[Parallel(n_jobs=1)]: Using backend SequentialBackend with 1 concurrent workers.\n",
      "[Parallel(n_jobs=1)]: Done   5 out of   5 | elapsed:    0.1s finished\n"
     ]
    }
   ],
   "source": [
    "from sklearn.pipeline import make_pipeline\n",
    "from sklearn.model_selection import cross_validate\n",
    "from problem import get_cv\n",
    "\n",
    "cv = get_cv(X_train, y_train)\n",
    "\n",
    "results = cross_validate(pipe, X_train, y_train, scoring=['neg_root_mean_squared_error'], cv=cv,\n",
    "                             verbose=1, return_train_score=True,\n",
    "                             n_jobs=1)\n",
    "\n",
    "print(\"Training RMSE: {:.3f} +- {:.3f}\".format(-np.mean(results['train_neg_root_mean_squared_error']),\n",
    "                                                        np.std(results['train_neg_root_mean_squared_error'])))\n",
    "print(\"Test RMSE: {:.3f} +- {:.3f}\".format(-np.mean(results['test_neg_root_mean_squared_error']),\n",
    "                                                        np.std(results['test_neg_root_mean_squared_error'])))"
   ]
  },
  {
   "cell_type": "code",
   "execution_count": null,
   "metadata": {},
   "outputs": [],
   "source": []
  }
 ],
 "metadata": {
  "kernelspec": {
   "display_name": "Python 3",
   "language": "python",
   "name": "python3"
  },
  "language_info": {
   "codemirror_mode": {
    "name": "ipython",
    "version": 3
   },
   "file_extension": ".py",
   "mimetype": "text/x-python",
   "name": "python",
   "nbconvert_exporter": "python",
   "pygments_lexer": "ipython3",
   "version": "3.7.9"
  }
 },
 "nbformat": 4,
 "nbformat_minor": 4
}
